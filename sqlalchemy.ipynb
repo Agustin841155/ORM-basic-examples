{
  "nbformat": 4,
  "nbformat_minor": 0,
  "metadata": {
    "colab": {
      "name": "sqlalchemy.ipynb",
      "provenance": [],
      "collapsed_sections": [],
      "authorship_tag": "ABX9TyOU4oXkFpFMK+bAVhCn/7xu",
      "include_colab_link": true
    },
    "kernelspec": {
      "name": "python3",
      "display_name": "Python 3"
    },
    "language_info": {
      "name": "python"
    },
    "accelerator": "GPU",
    "gpuClass": "standard"
  },
  "cells": [
    {
      "cell_type": "markdown",
      "metadata": {
        "id": "view-in-github",
        "colab_type": "text"
      },
      "source": [
        "<a href=\"https://colab.research.google.com/github/Agustin841155/ORM-basic-examples/blob/main/sqlalchemy.ipynb\" target=\"_parent\"><img src=\"https://colab.research.google.com/assets/colab-badge.svg\" alt=\"Open In Colab\"/></a>"
      ]
    },
    {
      "cell_type": "markdown",
      "source": [
        "Librerias necesarias."
      ],
      "metadata": {
        "id": "bxrsV95ilaaU"
      }
    },
    {
      "cell_type": "code",
      "execution_count": null,
      "metadata": {
        "id": "YuExu-QqkuZ3"
      },
      "outputs": [],
      "source": [
        "from sqlalchemy import create_engine\n",
        "from sqlalchemy import MetaData\n",
        "from sqlalchemy import Table, Column, Integer, String\n",
        "from sqlalchemy import insert, select, update, delete"
      ]
    },
    {
      "cell_type": "markdown",
      "source": [
        "creacion de la Base de datos y conexion con la base de datos. "
      ],
      "metadata": {
        "id": "35FjKZLclze0"
      }
    },
    {
      "cell_type": "code",
      "source": [
        "engine = create_engine('sqlite:///prueba.db')"
      ],
      "metadata": {
        "id": "v0rgJnsEl5Uo"
      },
      "execution_count": null,
      "outputs": []
    },
    {
      "cell_type": "markdown",
      "source": [
        "Definicion de la estructura de la base de datos."
      ],
      "metadata": {
        "id": "y8_ChxDGmoEp"
      }
    },
    {
      "cell_type": "code",
      "source": [
        "  metadata = MetaData()"
      ],
      "metadata": {
        "id": "mnce3brUm1Ec"
      },
      "execution_count": null,
      "outputs": []
    },
    {
      "cell_type": "markdown",
      "source": [
        "Creacion de tabla para la base de datos."
      ],
      "metadata": {
        "id": "74-kUsThm8_r"
      }
    },
    {
      "cell_type": "code",
      "source": [
        "clientes = Table(\n",
        "    'clientes', metadata,\n",
        "    Column('id_cliente', Integer, primary_key=True),\n",
        "    Column('nombre', String, nullable = False),\n",
        "    Column('email', String, nullable = False)\n",
        ")"
      ],
      "metadata": {
        "id": "knV9Q6hGnEit"
      },
      "execution_count": null,
      "outputs": []
    },
    {
      "cell_type": "markdown",
      "source": [
        "ejecucion del modelo anterior hacia la base de datos"
      ],
      "metadata": {
        "id": "ciNI-b2PnxES"
      }
    },
    {
      "cell_type": "code",
      "source": [
        "metadata.create_all(engine)"
      ],
      "metadata": {
        "id": "3dgBMKaon7h5"
      },
      "execution_count": null,
      "outputs": []
    },
    {
      "cell_type": "markdown",
      "source": [
        "Insertar valores dentro de la tabla"
      ],
      "metadata": {
        "id": "SGHgEwRfoOSF"
      }
    },
    {
      "cell_type": "code",
      "source": [
        "stmt = insert(clientes).values(nombre=\"Cliente 1\", email=\"cliente1@gmail.com\")\n",
        "print(type(stmt))\n",
        "print(stmt) "
      ],
      "metadata": {
        "colab": {
          "base_uri": "https://localhost:8080/"
        },
        "id": "paREKT1AoUyM",
        "outputId": "a6012283-57b7-4f96-a1cc-60afd61de37b"
      },
      "execution_count": null,
      "outputs": [
        {
          "output_type": "stream",
          "name": "stdout",
          "text": [
            "<class 'sqlalchemy.sql.dml.Insert'>\n",
            "INSERT INTO clientes (nombre, email) VALUES (:nombre, :email)\n"
          ]
        }
      ]
    },
    {
      "cell_type": "markdown",
      "source": [
        "ejecucion del stmt"
      ],
      "metadata": {
        "id": "AHUpMIT2oxpK"
      }
    },
    {
      "cell_type": "code",
      "source": [
        "with engine.connect() as conn:\n",
        "  result = conn.execute(stmt)"
      ],
      "metadata": {
        "id": "sXAU_X6SpD2C"
      },
      "execution_count": null,
      "outputs": []
    },
    {
      "cell_type": "markdown",
      "source": [
        "insercion de varios registros a la tabla"
      ],
      "metadata": {
        "id": "6cLuZSrLpilQ"
      }
    },
    {
      "cell_type": "code",
      "source": [
        "data = [\n",
        "    {\"nombre\":\"Cliente 2\", \"email\":\"cliente2@gmail.com\"},\n",
        "    {\"nombre\":\"Cliente 3\", \"email\":\"cliente3@gmail.com\"},\n",
        "    {\"nombre\":\"Cliente 4\", \"email\":\"cliente4@gmail.com\"},\n",
        "]\n",
        "stmt = insert(clientes).values(data)\n",
        "print(type(stmt))\n",
        "print(stmt)"
      ],
      "metadata": {
        "colab": {
          "base_uri": "https://localhost:8080/"
        },
        "id": "sTq9wrRhpn4S",
        "outputId": "dc51746a-6d16-4cb3-ff5b-8632e7abc33b"
      },
      "execution_count": null,
      "outputs": [
        {
          "output_type": "stream",
          "name": "stdout",
          "text": [
            "<class 'sqlalchemy.sql.dml.Insert'>\n",
            "INSERT INTO clientes (nombre, email) VALUES (:nombre_m0, :email_m0), (:nombre_m1, :email_m1), (:nombre_m2, :email_m2)\n"
          ]
        }
      ]
    },
    {
      "cell_type": "markdown",
      "source": [
        "ejecucion de stmt de insercion de varios registros."
      ],
      "metadata": {
        "id": "U4VDJrHZqiMi"
      }
    },
    {
      "cell_type": "code",
      "source": [
        "with engine.connect() as conn:\n",
        "  result = conn.execute(stmt)"
      ],
      "metadata": {
        "id": "cfzNSzImqqzE"
      },
      "execution_count": null,
      "outputs": []
    },
    {
      "cell_type": "markdown",
      "source": [
        "Consulta de select a la base de datos."
      ],
      "metadata": {
        "id": "sihCuTZPrGdi"
      }
    },
    {
      "cell_type": "code",
      "source": [
        "stmt = select(clientes)\n",
        "print(type(stmt))\n",
        "print(stmt)"
      ],
      "metadata": {
        "colab": {
          "base_uri": "https://localhost:8080/"
        },
        "id": "QhYv6V3crLgP",
        "outputId": "8fd74cd4-9b89-4fb1-9e84-0195de1cafef"
      },
      "execution_count": null,
      "outputs": [
        {
          "output_type": "stream",
          "name": "stdout",
          "text": [
            "<class 'sqlalchemy.sql.selectable.Select'>\n",
            "SELECT clientes.id_cliente, clientes.nombre, clientes.email \n",
            "FROM clientes\n"
          ]
        }
      ]
    },
    {
      "cell_type": "markdown",
      "source": [
        "imprimir los resultados de la consulta anterior (select)"
      ],
      "metadata": {
        "id": "ZTzT77LhrdmU"
      }
    },
    {
      "cell_type": "code",
      "source": [
        "with engine.connect() as conn:\n",
        "  result = conn.execute(stmt)\n",
        "  for row in result.fetchall():\n",
        "    print(row)"
      ],
      "metadata": {
        "colab": {
          "base_uri": "https://localhost:8080/"
        },
        "id": "mxUzmLWXrjOi",
        "outputId": "c6514b53-df80-475a-dd04-45f9b2fc51ec"
      },
      "execution_count": null,
      "outputs": [
        {
          "output_type": "stream",
          "name": "stdout",
          "text": [
            "(1, 'Cliente 1', 'cliente1@gmail.com')\n",
            "(2, 'Cliente 2', 'cliente2@gmail.com')\n",
            "(3, 'Cliente 3', 'cliente3@gmail.com')\n",
            "(4, 'Cliente 4', 'cliente69@gmail.com')\n"
          ]
        }
      ]
    },
    {
      "cell_type": "markdown",
      "source": [
        "Consulta para hacer un select especifico de una tabla"
      ],
      "metadata": {
        "id": "1p2jiH8njQ84"
      }
    },
    {
      "cell_type": "code",
      "source": [
        "stmt = select(clientes).where(clientes.c.id_cliente.like('%2'))\n",
        "print(type(stmt))\n",
        "print(stmt)"
      ],
      "metadata": {
        "colab": {
          "base_uri": "https://localhost:8080/"
        },
        "id": "VpRTYjgHoKup",
        "outputId": "59ff25fb-3941-4970-ea36-c2d97f51c011"
      },
      "execution_count": null,
      "outputs": [
        {
          "output_type": "stream",
          "name": "stdout",
          "text": [
            "<class 'sqlalchemy.sql.selectable.Select'>\n",
            "SELECT clientes.id_cliente, clientes.nombre, clientes.email \n",
            "FROM clientes \n",
            "WHERE clientes.id_cliente LIKE :id_cliente_1\n"
          ]
        }
      ]
    },
    {
      "cell_type": "code",
      "source": [
        "with engine.connect() as conn:\n",
        "  result = conn.execute(stmt)\n",
        "  for row in result.fetchall():\n",
        "    print(row)"
      ],
      "metadata": {
        "colab": {
          "base_uri": "https://localhost:8080/"
        },
        "id": "MuUV44_Soygu",
        "outputId": "a61730a0-e966-41da-e1bd-e9134abf7de3"
      },
      "execution_count": null,
      "outputs": [
        {
          "output_type": "stream",
          "name": "stdout",
          "text": [
            "(2, 'Cliente 2', 'cliente2@gmail.com')\n"
          ]
        }
      ]
    },
    {
      "cell_type": "markdown",
      "source": [
        "Realizacion de un update."
      ],
      "metadata": {
        "id": "_NMqUciOp0c3"
      }
    },
    {
      "cell_type": "code",
      "source": [
        "stmt = (\n",
        "    update(clientes).where(clientes.c.id_cliente== 4).\n",
        "    values(email='cliente69@gmail.com')\n",
        ")"
      ],
      "metadata": {
        "id": "-W1Dluqkxgmw"
      },
      "execution_count": null,
      "outputs": []
    },
    {
      "cell_type": "code",
      "source": [
        "with engine.connect() as conn:\n",
        "  result = conn.execute(stmt)\n",
        "  "
      ],
      "metadata": {
        "id": "1YoZ-ZICyvvJ"
      },
      "execution_count": null,
      "outputs": []
    },
    {
      "cell_type": "code",
      "source": [
        "stmt = select(clientes)"
      ],
      "metadata": {
        "id": "eruESkpWtJmp"
      },
      "execution_count": null,
      "outputs": []
    },
    {
      "cell_type": "code",
      "source": [
        "with engine.connect() as conn:\n",
        "  result = conn.execute(stmt)\n",
        "  for row in result.fetchall():\n",
        "    print(row)"
      ],
      "metadata": {
        "id": "kDe4fUMRtLU6"
      },
      "execution_count": null,
      "outputs": []
    }
  ]
}