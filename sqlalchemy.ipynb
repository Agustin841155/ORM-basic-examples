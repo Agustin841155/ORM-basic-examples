{
  "nbformat": 4,
  "nbformat_minor": 0,
  "metadata": {
    "colab": {
      "name": "sqlalchemy.ipynb",
      "provenance": [],
      "authorship_tag": "ABX9TyMcndvFHeGm6q9JwevMoDSA",
      "include_colab_link": true
    },
    "kernelspec": {
      "name": "python3",
      "display_name": "Python 3"
    },
    "language_info": {
      "name": "python"
    }
  },
  "cells": [
    {
      "cell_type": "markdown",
      "metadata": {
        "id": "view-in-github",
        "colab_type": "text"
      },
      "source": [
        "<a href=\"https://colab.research.google.com/github/Agustin841155/ORM-basic-examples/blob/main/sqlalchemy.ipynb\" target=\"_parent\"><img src=\"https://colab.research.google.com/assets/colab-badge.svg\" alt=\"Open In Colab\"/></a>"
      ]
    },
    {
      "cell_type": "markdown",
      "source": [
        "Librerias necesarias."
      ],
      "metadata": {
        "id": "bxrsV95ilaaU"
      }
    },
    {
      "cell_type": "code",
      "execution_count": 2,
      "metadata": {
        "id": "YuExu-QqkuZ3"
      },
      "outputs": [],
      "source": [
        "from sqlalchemy import create_engine\n",
        "from sqlalchemy import MetaData\n",
        "from sqlalchemy import Table, Column, Integer, String\n",
        "from sqlalchemy import insert, select, update, delete"
      ]
    },
    {
      "cell_type": "markdown",
      "source": [
        "creacion de la Base de datos. "
      ],
      "metadata": {
        "id": "35FjKZLclze0"
      }
    },
    {
      "cell_type": "code",
      "source": [
        "engine = create_engine('sqlite:///prueba.db')"
      ],
      "metadata": {
        "id": "v0rgJnsEl5Uo"
      },
      "execution_count": 3,
      "outputs": []
    },
    {
      "cell_type": "markdown",
      "source": [
        "Definicion de la estructura de la base de datos."
      ],
      "metadata": {
        "id": "y8_ChxDGmoEp"
      }
    },
    {
      "cell_type": "code",
      "source": [
        "metadata = MetaData()"
      ],
      "metadata": {
        "id": "mnce3brUm1Ec"
      },
      "execution_count": 4,
      "outputs": []
    },
    {
      "cell_type": "markdown",
      "source": [
        "Creacion de tabla para la base de datos."
      ],
      "metadata": {
        "id": "74-kUsThm8_r"
      }
    },
    {
      "cell_type": "code",
      "source": [
        "clientes = Table(\n",
        "    'clientes', metadata,\n",
        "    Column('id_cliente', Integer, primary_key=True),\n",
        "    Column('nombre', String, nullable = False),\n",
        "    Column('email', String, nullable = False)\n",
        ")"
      ],
      "metadata": {
        "id": "knV9Q6hGnEit"
      },
      "execution_count": 5,
      "outputs": []
    },
    {
      "cell_type": "markdown",
      "source": [
        "ejecucion del modelo anterior hacia la base de datos"
      ],
      "metadata": {
        "id": "ciNI-b2PnxES"
      }
    },
    {
      "cell_type": "code",
      "source": [
        "metadata.create_all(engine)"
      ],
      "metadata": {
        "id": "3dgBMKaon7h5"
      },
      "execution_count": 6,
      "outputs": []
    },
    {
      "cell_type": "markdown",
      "source": [
        "Insertar valores dentro de la tabla"
      ],
      "metadata": {
        "id": "SGHgEwRfoOSF"
      }
    },
    {
      "cell_type": "code",
      "source": [
        "stmt = insert(clientes).values(nombre=\"Cliente 1\", email=\"cliente1@gmail.com\")\n",
        "print(type(stmt))\n",
        "print(stmt) "
      ],
      "metadata": {
        "colab": {
          "base_uri": "https://localhost:8080/"
        },
        "id": "paREKT1AoUyM",
        "outputId": "9d4825e1-5562-40d8-f8d0-3348e01bf1a6"
      },
      "execution_count": 7,
      "outputs": [
        {
          "output_type": "stream",
          "name": "stdout",
          "text": [
            "<class 'sqlalchemy.sql.dml.Insert'>\n",
            "INSERT INTO clientes (nombre, email) VALUES (:nombre, :email)\n"
          ]
        }
      ]
    },
    {
      "cell_type": "markdown",
      "source": [
        "ejecucion del stmt"
      ],
      "metadata": {
        "id": "AHUpMIT2oxpK"
      }
    },
    {
      "cell_type": "code",
      "source": [
        "with engine.connect() as conn:\n",
        "  result = conn.execute(stmt)"
      ],
      "metadata": {
        "id": "sXAU_X6SpD2C"
      },
      "execution_count": 8,
      "outputs": []
    },
    {
      "cell_type": "markdown",
      "source": [
        "insercion de varios registros a la tabla"
      ],
      "metadata": {
        "id": "6cLuZSrLpilQ"
      }
    },
    {
      "cell_type": "code",
      "source": [
        "data = [\n",
        "    {\"nombre\":\"Cliente 2\", \"email\":\"cliente2@gmail.com\"},\n",
        "    {\"nombre\":\"Cliente 3\", \"email\":\"cliente3@gmail.com\"},\n",
        "    {\"nombre\":\"Cliente 4\", \"email\":\"cliente4@gmail.com\"},\n",
        "]\n",
        "stmt = insert(clientes).values(data)\n",
        "print(type(stmt))\n",
        "print(stmt)"
      ],
      "metadata": {
        "colab": {
          "base_uri": "https://localhost:8080/"
        },
        "id": "sTq9wrRhpn4S",
        "outputId": "d23eeeed-93cc-4b65-8eaa-69bda85a622f"
      },
      "execution_count": 9,
      "outputs": [
        {
          "output_type": "stream",
          "name": "stdout",
          "text": [
            "<class 'sqlalchemy.sql.dml.Insert'>\n",
            "INSERT INTO clientes (nombre, email) VALUES (:nombre_m0, :email_m0), (:nombre_m1, :email_m1), (:nombre_m2, :email_m2)\n"
          ]
        }
      ]
    },
    {
      "cell_type": "markdown",
      "source": [
        "ejecucion de stmt de insercion de varios registros."
      ],
      "metadata": {
        "id": "U4VDJrHZqiMi"
      }
    },
    {
      "cell_type": "code",
      "source": [
        "with engine.connect() as conn:\n",
        "  result = conn.execute(stmt)"
      ],
      "metadata": {
        "id": "cfzNSzImqqzE"
      },
      "execution_count": 10,
      "outputs": []
    },
    {
      "cell_type": "markdown",
      "source": [
        "Consulta de select a la base de datos."
      ],
      "metadata": {
        "id": "sihCuTZPrGdi"
      }
    },
    {
      "cell_type": "code",
      "source": [
        "stmt = select(clientes)\n",
        "print(type(stmt))\n",
        "print(stmt)"
      ],
      "metadata": {
        "colab": {
          "base_uri": "https://localhost:8080/"
        },
        "id": "QhYv6V3crLgP",
        "outputId": "c402a0f4-22df-4840-b9df-ef26ebcc8875"
      },
      "execution_count": 13,
      "outputs": [
        {
          "output_type": "stream",
          "name": "stdout",
          "text": [
            "<class 'sqlalchemy.sql.selectable.Select'>\n",
            "SELECT clientes.id_cliente, clientes.nombre, clientes.email \n",
            "FROM clientes\n"
          ]
        }
      ]
    },
    {
      "cell_type": "markdown",
      "source": [
        "imprimir los resultados de la consulta anterior (select)"
      ],
      "metadata": {
        "id": "ZTzT77LhrdmU"
      }
    },
    {
      "cell_type": "code",
      "source": [
        "with engine.connect() as conn:\n",
        "  result = conn.execute(stmt)\n",
        "  for row in result.fetchall():\n",
        "    print(row)"
      ],
      "metadata": {
        "colab": {
          "base_uri": "https://localhost:8080/"
        },
        "id": "mxUzmLWXrjOi",
        "outputId": "50a76e45-0ca9-4d2f-af5d-b0122895e846"
      },
      "execution_count": 15,
      "outputs": [
        {
          "output_type": "stream",
          "name": "stdout",
          "text": [
            "(1, 'Cliente 1', 'cliente1@gmail.com')\n",
            "(2, 'Cliente 2', 'cliente2@gmail.com')\n",
            "(3, 'Cliente 3', 'cliente3@gmail.com')\n",
            "(4, 'Cliente 4', 'cliente4@gmail.com')\n"
          ]
        }
      ]
    }
  ]
}